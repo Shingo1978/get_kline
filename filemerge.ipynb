{
 "cells": [
  {
   "cell_type": "code",
   "execution_count": null,
   "metadata": {
    "vscode": {
     "languageId": "plaintext"
    }
   },
   "outputs": [],
   "source": [
    "import pandas as pd\n",
    "\n",
    "# ファイルパス\n",
    "files = {\n",
    "    \"FTSE_WGBI\": '/home/shingo/Investment/file/ftse_wgbi_20250123.csv',\n",
    "    \"Gold\": '/home/shingo/Investment/file/gold_20250123.csv',\n",
    "    \"All_Country\": '/home/shingo/Investment/file/all_country_20250123.csv'\n",
    "}\n",
    "\n",
    "# データフレームを保存する辞書\n",
    "dataframes = {}\n",
    "\n",
    "# 各ファイルを処理\n",
    "for name, path in files.items():\n",
    "    try:\n",
    "        # CSVファイルを読み込む（Shift_JISエンコーディングを指定）\n",
    "        df = pd.read_csv(path, encoding='shift_jis')\n",
    "        print(f\"{name} のデータ読み込み成功。データサンプル:\\n{df.head()}\\n\")  # デバッグ用\n",
    "        \n",
    "        # 必要な列を確認して抽出\n",
    "        if '年月日' not in df.columns or '基準価額(円)' not in df.columns:\n",
    "            raise ValueError(f\"{name} に必要な列（年月日, 基準価額(円)）が存在しません。列名: {df.columns}\")\n",
    "\n",
    "        # 年月日を日付形式に変換（フォーマットを明示）\n",
    "        df['年月日'] = pd.to_datetime(df['年月日'], format='%Y年%m月%d日', errors='coerce')\n",
    "        \n",
    "        # 必要な列を抽出\n",
    "        df = df[['年月日', '基準価額(円)']].dropna()\n",
    "        df.columns = ['年月日', name]  # 列名を統一\n",
    "        \n",
    "        # 年月日をインデックスに設定\n",
    "        df.set_index('年月日', inplace=True)\n",
    "        \n",
    "        # 辞書に保存\n",
    "        dataframes[name] = df\n",
    "\n",
    "    except Exception as e:\n",
    "        print(f\"{name} の処理中にエラーが発生しました: {e}\")\n",
    "\n",
    "# データを統合（すべてのデータを含むように outer join を指定）\n",
    "if dataframes:\n",
    "    merged_data = pd.concat(dataframes.values(), axis=1, join='outer')\n",
    "    print(f\"統合データ:\\n{merged_data.head()}\\n\")  # デバッグ用\n",
    "else:\n",
    "    print(\"データが統合できませんでした。すべてのファイルでエラーが発生した可能性があります。\")\n",
    "\n",
    "# CSVに保存する場合\n",
    "output_path = '/home/shingo/Investment/file/merged_data.csv'\n",
    "if 'merged_data' in locals() and not merged_data.empty:\n",
    "    merged_data.to_csv(output_path, encoding='shift_jis')  # 日本語環境では utf-8-sig 推奨\n",
    "    print(f\"統合データが {output_path} に保存されました。\")\n",
    "else:\n",
    "    print(\"統合データが空のため、保存されませんでした。\")"
   ]
  }
 ],
 "metadata": {
  "language_info": {
   "name": "python"
  }
 },
 "nbformat": 4,
 "nbformat_minor": 2
}
